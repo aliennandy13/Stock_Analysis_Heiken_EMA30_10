{
  "nbformat": 4,
  "nbformat_minor": 0,
  "metadata": {
    "colab": {
      "name": "Heinken_EMA_30-10_Day",
      "provenance": [],
      "collapsed_sections": [],
      "authorship_tag": "ABX9TyONptLXK/9wOwlyWFILQvL2",
      "include_colab_link": true
    },
    "kernelspec": {
      "name": "python3",
      "display_name": "Python 3"
    },
    "language_info": {
      "name": "python"
    }
  },
  "cells": [
    {
      "cell_type": "markdown",
      "metadata": {
        "id": "view-in-github",
        "colab_type": "text"
      },
      "source": [
        "<a href=\"https://colab.research.google.com/github/aliennandy13/Stock_Analysis_Heiken_EMA30_10/blob/main/Heinken_EMA_30_10_Day.ipynb\" target=\"_parent\"><img src=\"https://colab.research.google.com/assets/colab-badge.svg\" alt=\"Open In Colab\"/></a>"
      ]
    },
    {
      "cell_type": "code",
      "metadata": {
        "colab": {
          "base_uri": "https://localhost:8080/"
        },
        "id": "GF3FIuqP2YOS",
        "outputId": "4c0de6db-4d11-4231-d991-c529e5e835d7"
      },
      "source": [
        "from google.colab import drive\n",
        "drive.mount('/content/drive')"
      ],
      "execution_count": 1,
      "outputs": [
        {
          "output_type": "stream",
          "text": [
            "Mounted at /content/drive\n"
          ],
          "name": "stdout"
        }
      ]
    },
    {
      "cell_type": "code",
      "metadata": {
        "colab": {
          "base_uri": "https://localhost:8080/"
        },
        "id": "yDBnY05I2fto",
        "outputId": "98a091d6-15e3-4da7-9b41-13856bfa78b0"
      },
      "source": [
        "import pandas as pd\n",
        "import matplotlib.pyplot as plt \n",
        "import datetime\n",
        "\n",
        "%matplotlib inline\n",
        "\n",
        "pd.set_option('display.max_rows', None)\n",
        "pd.set_option('display.max_columns', None)\n",
        "pd.set_option('display.width', None)\n",
        "pd.set_option('display.max_colwidth', -1)"
      ],
      "execution_count": 2,
      "outputs": [
        {
          "output_type": "stream",
          "text": [
            "/usr/local/lib/python3.7/dist-packages/ipykernel_launcher.py:10: FutureWarning: Passing a negative integer is deprecated in version 1.0 and will not be supported in future version. Instead, use None to not limit the column width.\n",
            "  # Remove the CWD from sys.path while we load stuff.\n"
          ],
          "name": "stderr"
        }
      ]
    },
    {
      "cell_type": "code",
      "metadata": {
        "id": "bq7wyVLM4bIo"
      },
      "source": [
        "'''\n",
        "data_price = pd.read_csv(\"/content/drive/My Drive/Investing/Day/TCS-EQ_price.csv\")\n",
        "data_H_Day = pd.read_csv(\"/content/drive/My Drive/Investing/Day/TCS-EQ_Day_Heiken.csv\")\n",
        "data_H_Week = pd.read_csv(\"/content/drive/My Drive/Investing/Day/TCS-EQ_WK_Heiken.csv\")\n",
        "dates = data_price['Date'].unique()\n",
        "dates_H_D = data_H_Day['Date'].unique()\n",
        "dates_H_W = data_H_Week['Date'].unique()\n",
        "print(dates_H_D)\n",
        "'''\n",
        "\n",
        "data_day = pd.read_excel(\"/content/drive/My Drive/Investing/Day/TCS-EQ_price_HK_EMA.xlsx\",dtype=str)\n",
        "dates_day = data_day['Date'].unique()\n",
        "\n",
        "data_week = pd.read_excel(\"/content/drive/My Drive/Investing/Day/TCS-EQ_WK_Heiken.xlsx\",dtype=str)\n",
        "dates_week = data_week['Date'].unique()\n",
        "#print(dates_day)"
      ],
      "execution_count": 3,
      "outputs": []
    },
    {
      "cell_type": "code",
      "metadata": {
        "id": "bWs0bCqH-2Ro"
      },
      "source": [
        "def find_Week_Date(d0):\n",
        "  \n",
        "  d0 = d0.split('-')\n",
        "  d0 = list(map(int,d0))\n",
        "  #print(d0)\n",
        "  d0 = datetime.datetime(d0[0],d0[1],d0[2])\n",
        "  dl = (dates_week[0]).split(' ')[0]\n",
        "  #print(dl)\n",
        "  dl = dl.split('-')\n",
        "  dl =  list(map(int,dl))\n",
        "  #print(dl)\n",
        "  dl = datetime.datetime(dl[0],dl[1],dl[2])\n",
        "  \n",
        "  if d0 >= dl:\n",
        "    date = (dates_week[0]).split(' ')[0]\n",
        "  else:\n",
        "    df = data_week\n",
        "    row_iterator = df.iterrows()\n",
        "    _, last = row_iterator.__next__()  # take first item from row_iterator\n",
        "    \n",
        "    for i, row in row_iterator:    \n",
        "\n",
        "        date_curr = (row['Date']).split(' ')[0]\n",
        "        date_curr = date_curr.split('-')\n",
        "        date_curr = list(map(int,date_curr))\n",
        "        d1 = datetime.datetime(date_curr[0], date_curr[1], date_curr[2])\n",
        "        date_next = (last['Date']).split(' ')[0]\n",
        "        date_next = date_next.split('-')\n",
        "        date_next = list(map(int,date_next))\n",
        "        d2 = datetime.datetime(date_next[0], date_next[1], date_next[2])\n",
        "        \n",
        "        if d0 >= d1 and d0 < d2:\n",
        "          date = (row['Date'])\n",
        "          #print(row['Date'])\n",
        "          #print(last['Date'])\n",
        "          break\n",
        "        last = row\n",
        "  return (date)"
      ],
      "execution_count": 4,
      "outputs": []
    },
    {
      "cell_type": "code",
      "metadata": {
        "id": "pNubzDkm-2Nn",
        "colab": {
          "base_uri": "https://localhost:8080/"
        },
        "outputId": "bcbd8e10-d1ed-46c4-f6e5-44792a21f451"
      },
      "source": [
        "# Main Logic Layer\n",
        "# Without SL\n",
        "buy_flag = False\n",
        "pnl_overall = []\n",
        "\n",
        "row_iterator = data_day[::-1].iterrows()\n",
        "_, last = row_iterator.__next__()\n",
        "\n",
        "for i, row in row_iterator: \n",
        "  #print(row[1]['Date']) \n",
        "  if not buy_flag:\n",
        "    #chk for bullish Candle\n",
        "    if (last['Hi-O']) == (last['Hi-L']):\n",
        "      #print(row[1]['Date'])\n",
        "      if[last['EMA-10']] > [last['EMA-30']]:\n",
        "        #print(row[1]['Date'])\n",
        "        day_date = (last['Date']).split(\" \")[0]\n",
        "        #print(day_date)       \n",
        "        week_date = find_Week_Date(day_date)\n",
        "        \n",
        "        df_w = data_week[(data_week['Date'] == week_date)]        \n",
        "        \n",
        "        if df_w.iloc[0]['EMA-10'] > df_w.iloc[0]['EMA-30']:\n",
        "          buy_price = row['TCS-EQ O']\n",
        "          buy_date = row['Date']\n",
        "          print(\"B: \" + buy_date + \"-------\" + buy_price)\n",
        "          buy_flag = True\n",
        "  else:\n",
        "    #chk for next Bearish Candle\n",
        "    if (last['Hi-O']) == (last['Hi-H']):\n",
        "      buy_flag = False\n",
        "      sell_price = row['TCS-EQ O']\n",
        "      sell_date = row['Date']\n",
        "      print(\"S: \" + sell_date + \"-------\" + sell_price)\n",
        "      pnl =  float(sell_price) -float(buy_price) \n",
        "      pnl_overall.append(pnl)\n",
        "      print(\"PnL: \" + str(pnl))\n",
        "\n",
        "  last = row\n",
        "\n",
        "total = sum(pnl_overall)\n",
        "print(total)"
      ],
      "execution_count": 22,
      "outputs": [
        {
          "output_type": "stream",
          "text": [
            "B: 2020-07-29 00:00:00-------2292\n",
            "S: 2020-08-05 00:00:00-------2260\n",
            "PnL: -32.0\n",
            "B: 2020-08-10 00:00:00-------2318\n",
            "S: 2020-08-26 00:00:00-------2242\n",
            "PnL: -76.0\n",
            "B: 2020-09-04 00:00:00-------2275\n",
            "S: 2020-09-25 00:00:00-------2368\n",
            "PnL: 93.0\n",
            "B: 2020-09-30 00:00:00-------2489\n",
            "S: 2020-10-19 00:00:00-------2774\n",
            "PnL: 285.0\n",
            "B: 2020-11-06 00:00:00-------2699\n",
            "S: 2020-11-14 00:00:00-------2677.95\n",
            "PnL: -21.050000000000182\n",
            "B: 2020-11-24 00:00:00-------2734.4\n",
            "S: 2021-01-01 00:00:00-------2880\n",
            "PnL: 145.5999999999999\n",
            "B: 2021-01-05 00:00:00-------3039.6\n",
            "S: 2021-01-29 00:00:00-------3210.05\n",
            "PnL: 170.45000000000027\n",
            "B: 2021-03-24 00:00:00-------3111.2\n",
            "S: 2021-04-15 00:00:00-------3160.3\n",
            "PnL: 49.100000000000364\n",
            "B: 2021-06-09 00:00:00-------3202\n",
            "S: 2021-06-22 00:00:00-------3304\n",
            "PnL: 102.0\n",
            "B: 2021-06-23 00:00:00-------3329\n",
            "S: 2021-07-05 00:00:00-------3342\n",
            "PnL: 13.0\n",
            "729.1000000000004\n"
          ],
          "name": "stdout"
        }
      ]
    },
    {
      "cell_type": "code",
      "metadata": {
        "id": "nU643xlxNFKO",
        "colab": {
          "base_uri": "https://localhost:8080/"
        },
        "outputId": "e42be526-2441-48d9-abd8-ba4b71c97743"
      },
      "source": [
        "# Main Logic Layer -2 \n",
        "# Lets wait till we get the Profit :P\n",
        "buy_flag = False\n",
        "pnl_overall = []\n",
        "\n",
        "row_iterator = data_day[::-1].iterrows()\n",
        "_, last = row_iterator.__next__()\n",
        "\n",
        "for i, row in row_iterator: \n",
        "  #print(row[1]['Date']) \n",
        "  if not buy_flag:\n",
        "    #chk for bullish Candle\n",
        "    if (last['Hi-O']) == (last['Hi-L']):\n",
        "      #print(row[1]['Date'])\n",
        "      if[last['EMA-10']] > [last['EMA-30']]:\n",
        "        #print(row[1]['Date'])\n",
        "        day_date = (last['Date']).split(\" \")[0]\n",
        "        #print(day_date)       \n",
        "        week_date = find_Week_Date(day_date)        \n",
        "        df_w = data_week[(data_week['Date'] == week_date)]  \n",
        "        \n",
        "        if df_w.iloc[0]['EMA-10'] > df_w.iloc[0]['EMA-30']:\n",
        "          buy_price = row['TCS-EQ O']\n",
        "          buy_date = row['Date']\n",
        "          print(\"B: \" + buy_date + \"-------\" + buy_price)\n",
        "          buy_flag = True\n",
        "  else:\n",
        "    #chk for next Bearish Candle\n",
        "    if (last['Hi-O']) == (last['Hi-H']):\n",
        "      sell_price = row['TCS-EQ O']\n",
        "      sell_date = row['Date']\n",
        "      pnl =  float(sell_price) -float(buy_price) \n",
        "      \n",
        "      if pnl > 0:\n",
        "        pnl_overall.append(pnl)\n",
        "        print(\"S: \" + sell_date + \"-------\" + sell_price)\n",
        "        print(\"PnL: \" + str(pnl))\n",
        "        buy_flag = False\n",
        "  last = row\n",
        "\n",
        "total = sum(pnl_overall)\n",
        "print(total)"
      ],
      "execution_count": 21,
      "outputs": [
        {
          "output_type": "stream",
          "text": [
            "B: 2020-07-29 00:00:00-------2292\n",
            "S: 2020-09-25 00:00:00-------2368\n",
            "PnL: 76.0\n",
            "B: 2020-09-30 00:00:00-------2489\n",
            "S: 2020-10-19 00:00:00-------2774\n",
            "PnL: 285.0\n",
            "B: 2020-11-06 00:00:00-------2699\n",
            "S: 2021-01-01 00:00:00-------2880\n",
            "PnL: 181.0\n",
            "B: 2021-01-05 00:00:00-------3039.6\n",
            "S: 2021-01-29 00:00:00-------3210.05\n",
            "PnL: 170.45000000000027\n",
            "B: 2021-03-24 00:00:00-------3111.2\n",
            "S: 2021-04-15 00:00:00-------3160.3\n",
            "PnL: 49.100000000000364\n",
            "B: 2021-06-09 00:00:00-------3202\n",
            "S: 2021-06-22 00:00:00-------3304\n",
            "PnL: 102.0\n",
            "B: 2021-06-23 00:00:00-------3329\n",
            "S: 2021-07-05 00:00:00-------3342\n",
            "PnL: 13.0\n",
            "876.5500000000006\n"
          ],
          "name": "stdout"
        }
      ]
    }
  ]
}